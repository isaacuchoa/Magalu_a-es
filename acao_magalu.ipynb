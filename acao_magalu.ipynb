{
 "cells": [
  {
   "cell_type": "code",
   "execution_count": 3,
   "id": "1ce4f1ad",
   "metadata": {},
   "outputs": [],
   "source": [
    "# importar as libs\n",
    "import pandas as pd\n",
    "import numpy as np\n",
    "import matplotlib.pyplot as plt\n",
    "import seaborn as sns\n",
    "import plotly.graph_objects as go\n",
    "\n",
    "#lib para ignorar avisos\n",
    "import warnings\n",
    "\n",
    "#desabilitando avisos\n",
    "warnings.filterwarnings('ignore')\n"
   ]
  },
  {
   "cell_type": "code",
   "execution_count": 5,
   "id": "837a0b39",
   "metadata": {},
   "outputs": [
    {
     "data": {
      "text/html": [
       "<div>\n",
       "<style scoped>\n",
       "    .dataframe tbody tr th:only-of-type {\n",
       "        vertical-align: middle;\n",
       "    }\n",
       "\n",
       "    .dataframe tbody tr th {\n",
       "        vertical-align: top;\n",
       "    }\n",
       "\n",
       "    .dataframe thead th {\n",
       "        text-align: right;\n",
       "    }\n",
       "</style>\n",
       "<table border=\"1\" class=\"dataframe\">\n",
       "  <thead>\n",
       "    <tr style=\"text-align: right;\">\n",
       "      <th></th>\n",
       "      <th>Data</th>\n",
       "      <th>Maior</th>\n",
       "      <th>Menor</th>\n",
       "      <th>Abertura</th>\n",
       "      <th>Fechamento</th>\n",
       "      <th>Volume</th>\n",
       "      <th>Adj Close</th>\n",
       "    </tr>\n",
       "  </thead>\n",
       "  <tbody>\n",
       "    <tr>\n",
       "      <th>0</th>\n",
       "      <td>2021-01-04</td>\n",
       "      <td>25.580000</td>\n",
       "      <td>24.870001</td>\n",
       "      <td>25.260000</td>\n",
       "      <td>25.200001</td>\n",
       "      <td>25706100</td>\n",
       "      <td>25.181740</td>\n",
       "    </tr>\n",
       "    <tr>\n",
       "      <th>1</th>\n",
       "      <td>2021-01-05</td>\n",
       "      <td>25.180000</td>\n",
       "      <td>24.340000</td>\n",
       "      <td>25.100000</td>\n",
       "      <td>24.760000</td>\n",
       "      <td>25431900</td>\n",
       "      <td>24.742058</td>\n",
       "    </tr>\n",
       "    <tr>\n",
       "      <th>2</th>\n",
       "      <td>2021-01-06</td>\n",
       "      <td>24.660000</td>\n",
       "      <td>23.420000</td>\n",
       "      <td>24.650000</td>\n",
       "      <td>23.459999</td>\n",
       "      <td>51799000</td>\n",
       "      <td>23.442999</td>\n",
       "    </tr>\n",
       "    <tr>\n",
       "      <th>3</th>\n",
       "      <td>2021-01-07</td>\n",
       "      <td>23.850000</td>\n",
       "      <td>22.950001</td>\n",
       "      <td>23.639999</td>\n",
       "      <td>23.160000</td>\n",
       "      <td>42146600</td>\n",
       "      <td>23.143217</td>\n",
       "    </tr>\n",
       "    <tr>\n",
       "      <th>4</th>\n",
       "      <td>2021-01-08</td>\n",
       "      <td>24.299999</td>\n",
       "      <td>23.020000</td>\n",
       "      <td>23.190001</td>\n",
       "      <td>23.840000</td>\n",
       "      <td>43988100</td>\n",
       "      <td>23.822723</td>\n",
       "    </tr>\n",
       "  </tbody>\n",
       "</table>\n",
       "</div>"
      ],
      "text/plain": [
       "        Data      Maior      Menor   Abertura  Fechamento    Volume  Adj Close\n",
       "0 2021-01-04  25.580000  24.870001  25.260000   25.200001  25706100  25.181740\n",
       "1 2021-01-05  25.180000  24.340000  25.100000   24.760000  25431900  24.742058\n",
       "2 2021-01-06  24.660000  23.420000  24.650000   23.459999  51799000  23.442999\n",
       "3 2021-01-07  23.850000  22.950001  23.639999   23.160000  42146600  23.143217\n",
       "4 2021-01-08  24.299999  23.020000  23.190001   23.840000  43988100  23.822723"
      ]
     },
     "execution_count": 5,
     "metadata": {},
     "output_type": "execute_result"
    }
   ],
   "source": [
    "dados = pd.read_excel('acao_magalu.xlsx')\n",
    "dados.head()"
   ]
  },
  {
   "cell_type": "code",
   "execution_count": 6,
   "id": "27fc7d5d",
   "metadata": {},
   "outputs": [
    {
     "data": {
      "text/plain": [
       "(247, 7)"
      ]
     },
     "execution_count": 6,
     "metadata": {},
     "output_type": "execute_result"
    }
   ],
   "source": [
    "#verificar a dimensão\n",
    "dados.shape"
   ]
  },
  {
   "cell_type": "code",
   "execution_count": 7,
   "id": "f4c8131a",
   "metadata": {},
   "outputs": [
    {
     "data": {
      "text/html": [
       "<div>\n",
       "<style scoped>\n",
       "    .dataframe tbody tr th:only-of-type {\n",
       "        vertical-align: middle;\n",
       "    }\n",
       "\n",
       "    .dataframe tbody tr th {\n",
       "        vertical-align: top;\n",
       "    }\n",
       "\n",
       "    .dataframe thead th {\n",
       "        text-align: right;\n",
       "    }\n",
       "</style>\n",
       "<table border=\"1\" class=\"dataframe\">\n",
       "  <thead>\n",
       "    <tr style=\"text-align: right;\">\n",
       "      <th></th>\n",
       "      <th>Maior</th>\n",
       "      <th>Menor</th>\n",
       "      <th>Abertura</th>\n",
       "      <th>Fechamento</th>\n",
       "      <th>Volume</th>\n",
       "      <th>Adj Close</th>\n",
       "    </tr>\n",
       "  </thead>\n",
       "  <tbody>\n",
       "    <tr>\n",
       "      <th>count</th>\n",
       "      <td>247.000000</td>\n",
       "      <td>247.000000</td>\n",
       "      <td>247.000000</td>\n",
       "      <td>247.000000</td>\n",
       "      <td>2.470000e+02</td>\n",
       "      <td>247.000000</td>\n",
       "    </tr>\n",
       "    <tr>\n",
       "      <th>mean</th>\n",
       "      <td>18.977530</td>\n",
       "      <td>18.205668</td>\n",
       "      <td>18.629717</td>\n",
       "      <td>18.549555</td>\n",
       "      <td>4.536056e+07</td>\n",
       "      <td>18.541389</td>\n",
       "    </tr>\n",
       "    <tr>\n",
       "      <th>std</th>\n",
       "      <td>5.632712</td>\n",
       "      <td>5.567061</td>\n",
       "      <td>5.602659</td>\n",
       "      <td>5.637050</td>\n",
       "      <td>4.082594e+07</td>\n",
       "      <td>5.631316</td>\n",
       "    </tr>\n",
       "    <tr>\n",
       "      <th>min</th>\n",
       "      <td>6.200000</td>\n",
       "      <td>5.620000</td>\n",
       "      <td>5.710000</td>\n",
       "      <td>5.740000</td>\n",
       "      <td>8.716100e+06</td>\n",
       "      <td>5.740000</td>\n",
       "    </tr>\n",
       "    <tr>\n",
       "      <th>25%</th>\n",
       "      <td>15.010000</td>\n",
       "      <td>14.275000</td>\n",
       "      <td>14.705000</td>\n",
       "      <td>14.555000</td>\n",
       "      <td>2.285200e+07</td>\n",
       "      <td>14.555000</td>\n",
       "    </tr>\n",
       "    <tr>\n",
       "      <th>50%</th>\n",
       "      <td>20.650000</td>\n",
       "      <td>19.930000</td>\n",
       "      <td>20.280001</td>\n",
       "      <td>20.270000</td>\n",
       "      <td>3.130900e+07</td>\n",
       "      <td>20.255312</td>\n",
       "    </tr>\n",
       "    <tr>\n",
       "      <th>75%</th>\n",
       "      <td>22.595000</td>\n",
       "      <td>21.985001</td>\n",
       "      <td>22.375000</td>\n",
       "      <td>22.200001</td>\n",
       "      <td>4.742785e+07</td>\n",
       "      <td>22.183912</td>\n",
       "    </tr>\n",
       "    <tr>\n",
       "      <th>max</th>\n",
       "      <td>27.070000</td>\n",
       "      <td>25.900000</td>\n",
       "      <td>26.250000</td>\n",
       "      <td>26.240000</td>\n",
       "      <td>2.578313e+08</td>\n",
       "      <td>26.220984</td>\n",
       "    </tr>\n",
       "  </tbody>\n",
       "</table>\n",
       "</div>"
      ],
      "text/plain": [
       "            Maior       Menor    Abertura  Fechamento        Volume  \\\n",
       "count  247.000000  247.000000  247.000000  247.000000  2.470000e+02   \n",
       "mean    18.977530   18.205668   18.629717   18.549555  4.536056e+07   \n",
       "std      5.632712    5.567061    5.602659    5.637050  4.082594e+07   \n",
       "min      6.200000    5.620000    5.710000    5.740000  8.716100e+06   \n",
       "25%     15.010000   14.275000   14.705000   14.555000  2.285200e+07   \n",
       "50%     20.650000   19.930000   20.280001   20.270000  3.130900e+07   \n",
       "75%     22.595000   21.985001   22.375000   22.200001  4.742785e+07   \n",
       "max     27.070000   25.900000   26.250000   26.240000  2.578313e+08   \n",
       "\n",
       "        Adj Close  \n",
       "count  247.000000  \n",
       "mean    18.541389  \n",
       "std      5.631316  \n",
       "min      5.740000  \n",
       "25%     14.555000  \n",
       "50%     20.255312  \n",
       "75%     22.183912  \n",
       "max     26.220984  "
      ]
     },
     "execution_count": 7,
     "metadata": {},
     "output_type": "execute_result"
    }
   ],
   "source": [
    "# Método para encontrar as estatísticas de uma moldura de dados\n",
    "dados.describe()"
   ]
  },
  {
   "cell_type": "code",
   "execution_count": 8,
   "id": "4c3d3edc",
   "metadata": {},
   "outputs": [
    {
     "name": "stdout",
     "output_type": "stream",
     "text": [
      "<class 'pandas.core.frame.DataFrame'>\n",
      "RangeIndex: 247 entries, 0 to 246\n",
      "Data columns (total 7 columns):\n",
      " #   Column      Non-Null Count  Dtype         \n",
      "---  ------      --------------  -----         \n",
      " 0   Data        247 non-null    datetime64[ns]\n",
      " 1   Maior       247 non-null    float64       \n",
      " 2   Menor       247 non-null    float64       \n",
      " 3   Abertura    247 non-null    float64       \n",
      " 4   Fechamento  247 non-null    float64       \n",
      " 5   Volume      247 non-null    int64         \n",
      " 6   Adj Close   247 non-null    float64       \n",
      "dtypes: datetime64[ns](1), float64(5), int64(1)\n",
      "memory usage: 13.6 KB\n"
     ]
    }
   ],
   "source": [
    "# verificar campos nulos e tipo dos dados\n",
    "dados.info()"
   ]
  },
  {
   "cell_type": "code",
   "execution_count": 9,
   "id": "ba953e69",
   "metadata": {},
   "outputs": [
    {
     "data": {
      "text/plain": [
       "Data          0\n",
       "Maior         0\n",
       "Menor         0\n",
       "Abertura      0\n",
       "Fechamento    0\n",
       "Volume        0\n",
       "Adj Close     0\n",
       "dtype: int64"
      ]
     },
     "execution_count": 9,
     "metadata": {},
     "output_type": "execute_result"
    }
   ],
   "source": [
    "# Verificar campos nulos\n",
    "dados.isnull().sum()"
   ]
  },
  {
   "cell_type": "code",
   "execution_count": 10,
   "id": "e0246832",
   "metadata": {},
   "outputs": [
    {
     "data": {
      "text/plain": [
       "0"
      ]
     },
     "execution_count": 10,
     "metadata": {},
     "output_type": "execute_result"
    }
   ],
   "source": [
    "# Verificar campos duplicados\n",
    "dados.duplicated().sum()"
   ]
  },
  {
   "cell_type": "code",
   "execution_count": 11,
   "id": "8ca9659a",
   "metadata": {},
   "outputs": [
    {
     "data": {
      "text/html": [
       "<div>\n",
       "<style scoped>\n",
       "    .dataframe tbody tr th:only-of-type {\n",
       "        vertical-align: middle;\n",
       "    }\n",
       "\n",
       "    .dataframe tbody tr th {\n",
       "        vertical-align: top;\n",
       "    }\n",
       "\n",
       "    .dataframe thead th {\n",
       "        text-align: right;\n",
       "    }\n",
       "</style>\n",
       "<table border=\"1\" class=\"dataframe\">\n",
       "  <thead>\n",
       "    <tr style=\"text-align: right;\">\n",
       "      <th></th>\n",
       "      <th>Maior</th>\n",
       "      <th>Menor</th>\n",
       "      <th>Abertura</th>\n",
       "      <th>Fechamento</th>\n",
       "      <th>Volume</th>\n",
       "      <th>Adj Close</th>\n",
       "    </tr>\n",
       "    <tr>\n",
       "      <th>Data</th>\n",
       "      <th></th>\n",
       "      <th></th>\n",
       "      <th></th>\n",
       "      <th></th>\n",
       "      <th></th>\n",
       "      <th></th>\n",
       "    </tr>\n",
       "  </thead>\n",
       "  <tbody>\n",
       "    <tr>\n",
       "      <th>2021-01-04</th>\n",
       "      <td>25.580000</td>\n",
       "      <td>24.870001</td>\n",
       "      <td>25.260000</td>\n",
       "      <td>25.200001</td>\n",
       "      <td>25706100</td>\n",
       "      <td>25.181740</td>\n",
       "    </tr>\n",
       "    <tr>\n",
       "      <th>2021-01-05</th>\n",
       "      <td>25.180000</td>\n",
       "      <td>24.340000</td>\n",
       "      <td>25.100000</td>\n",
       "      <td>24.760000</td>\n",
       "      <td>25431900</td>\n",
       "      <td>24.742058</td>\n",
       "    </tr>\n",
       "    <tr>\n",
       "      <th>2021-01-06</th>\n",
       "      <td>24.660000</td>\n",
       "      <td>23.420000</td>\n",
       "      <td>24.650000</td>\n",
       "      <td>23.459999</td>\n",
       "      <td>51799000</td>\n",
       "      <td>23.442999</td>\n",
       "    </tr>\n",
       "    <tr>\n",
       "      <th>2021-01-07</th>\n",
       "      <td>23.850000</td>\n",
       "      <td>22.950001</td>\n",
       "      <td>23.639999</td>\n",
       "      <td>23.160000</td>\n",
       "      <td>42146600</td>\n",
       "      <td>23.143217</td>\n",
       "    </tr>\n",
       "    <tr>\n",
       "      <th>2021-01-08</th>\n",
       "      <td>24.299999</td>\n",
       "      <td>23.020000</td>\n",
       "      <td>23.190001</td>\n",
       "      <td>23.840000</td>\n",
       "      <td>43988100</td>\n",
       "      <td>23.822723</td>\n",
       "    </tr>\n",
       "  </tbody>\n",
       "</table>\n",
       "</div>"
      ],
      "text/plain": [
       "                Maior      Menor   Abertura  Fechamento    Volume  Adj Close\n",
       "Data                                                                        \n",
       "2021-01-04  25.580000  24.870001  25.260000   25.200001  25706100  25.181740\n",
       "2021-01-05  25.180000  24.340000  25.100000   24.760000  25431900  24.742058\n",
       "2021-01-06  24.660000  23.420000  24.650000   23.459999  51799000  23.442999\n",
       "2021-01-07  23.850000  22.950001  23.639999   23.160000  42146600  23.143217\n",
       "2021-01-08  24.299999  23.020000  23.190001   23.840000  43988100  23.822723"
      ]
     },
     "execution_count": 11,
     "metadata": {},
     "output_type": "execute_result"
    }
   ],
   "source": [
    "# Series temporais\n",
    "tabela = dados.set_index('Data')\n",
    "\n",
    "tabela.head()"
   ]
  },
  {
   "cell_type": "code",
   "execution_count": null,
   "id": "8c324a3d",
   "metadata": {},
   "outputs": [],
   "source": []
  }
 ],
 "metadata": {
  "kernelspec": {
   "display_name": "Python 3",
   "language": "python",
   "name": "python3"
  },
  "language_info": {
   "codemirror_mode": {
    "name": "ipython",
    "version": 3
   },
   "file_extension": ".py",
   "mimetype": "text/x-python",
   "name": "python",
   "nbconvert_exporter": "python",
   "pygments_lexer": "ipython3",
   "version": "3.8.8"
  }
 },
 "nbformat": 4,
 "nbformat_minor": 5
}
